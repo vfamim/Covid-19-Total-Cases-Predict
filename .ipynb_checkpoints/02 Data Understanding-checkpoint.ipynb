{
 "cells": [
  {
   "cell_type": "markdown",
   "metadata": {},
   "source": [
    "# 02 DATA ACQUISITION AND UDERSTANDING\n",
    "\n",
    "## Goals\n",
    "\n",
    "Produce a clean, high-quality data set whose relationship to the target variables is understood. Locate the data set in the appropriate analytics environment so you are ready to model.\n",
    "Develop a solution architecture of the data pipeline that refreshes and scores the data regularly.\n",
    "\n",
    "## How to do it\n",
    "\n",
    "There are three main tasks addressed in this stage:\n",
    "\n",
    "0. Ingest the data into the target analytic environment.\n",
    "0. Explore the data to determine if the data quality is adequate to answer the question.\n",
    "0. Set up a data pipeline to score new or regularly refreshed data.\n",
    "\n",
    "Our source: https://ourworldindata.org/covid-cases"
   ]
  },
  {
   "cell_type": "markdown",
   "metadata": {},
   "source": [
    "# 0.0. Imports"
   ]
  },
  {
   "cell_type": "code",
   "execution_count": 1,
   "metadata": {},
   "outputs": [
    {
     "output_type": "error",
     "ename": "ModuleNotFoundError",
     "evalue": "No module named 'darkstyle'",
     "traceback": [
      "\u001b[0;31m---------------------------------------------------------------------------\u001b[0m",
      "\u001b[0;31mModuleNotFoundError\u001b[0m                       Traceback (most recent call last)",
      "\u001b[0;32m<ipython-input-1-ed7b2c3cc187>\u001b[0m in \u001b[0;36m<module>\u001b[0;34m\u001b[0m\n\u001b[1;32m      8\u001b[0m \u001b[0;34m\u001b[0m\u001b[0m\n\u001b[1;32m      9\u001b[0m \u001b[0;32mimport\u001b[0m \u001b[0mseaborn\u001b[0m \u001b[0;32mas\u001b[0m \u001b[0msns\u001b[0m\u001b[0;34m\u001b[0m\u001b[0;34m\u001b[0m\u001b[0m\n\u001b[0;32m---> 10\u001b[0;31m \u001b[0;32mfrom\u001b[0m \u001b[0mdarkstyle\u001b[0m \u001b[0;32mimport\u001b[0m \u001b[0mdark_style\u001b[0m \u001b[0;32mas\u001b[0m \u001b[0mdks\u001b[0m\u001b[0;34m\u001b[0m\u001b[0;34m\u001b[0m\u001b[0m\n\u001b[0m\u001b[1;32m     11\u001b[0m \u001b[0;34m\u001b[0m\u001b[0m\n\u001b[1;32m     12\u001b[0m \u001b[0;31m# Statistics\u001b[0m\u001b[0;34m\u001b[0m\u001b[0;34m\u001b[0m\u001b[0;34m\u001b[0m\u001b[0m\n",
      "\u001b[0;31mModuleNotFoundError\u001b[0m: No module named 'darkstyle'"
     ]
    }
   ],
   "source": [
    "# Data manipulation\n",
    "import numpy as np\n",
    "import pandas as pd\n",
    "pd.set_option('max_colwidth', 200)\n",
    "\n",
    "# Graphs\n",
    "import matplotlib.pyplot as plt\n",
    "\n",
    "import seaborn as sns\n",
    "from darkstyle import dark_style as dks\n",
    "\n",
    "# Statistics\n",
    "from pandas_profiling import ProfileReport\n",
    "from statsmodels.distributions.empirical_distribution import ECDF"
   ]
  },
  {
   "cell_type": "markdown",
   "metadata": {},
   "source": [
    "## 0.1. Helper Functions"
   ]
  },
  {
   "cell_type": "code",
   "execution_count": null,
   "metadata": {},
   "outputs": [],
   "source": [
    "# set some default figure paramenters and style\n",
    "def settings():\n",
    "    %matplotlibe inline\n",
    "    dks.dark_style() # module for matplot darkstyle\n",
    "    plt.rcParams['figure.figsize'] = [25, 12]\n",
    "    plt.rcParams['font.size'] = 8\n",
    "    pd.options.display.max_columns = None\n",
    "    pd.options.display.max_rows = None\n",
    "    pd.set_option( 'display.expand_frame_repr', False )\n",
    "settings()"
   ]
  },
  {
   "cell_type": "code",
   "execution_count": null,
   "metadata": {},
   "outputs": [],
   "source": [
    "def show_density(var_data):\n",
    "\n",
    "     # Plot density\n",
    "    var_data.plot.density()\n",
    "\n",
    "    # Add titles and labels\n",
    "    plt.title('Data Density')\n",
    "\n",
    "    # Show the mean, median, and mode\n",
    "    plt.axvline(x=var_data.mean(), color = 'cyan', linestyle='dashed', linewidth = 2, label='mean')\n",
    "    plt.axvline(x=var_data.median(), color = 'red', linestyle='dashed', linewidth = 2, label='median')\n",
    "    plt.axvline(x=var_data.mode()[0], color = 'yellow', linestyle='dashed', linewidth = 2, label='mode')\n",
    "    plt.legend(loc='upper right')\n",
    "\n",
    "    # Show the figure\n",
    "    plt.show()"
   ]
  },
  {
   "cell_type": "markdown",
   "metadata": {},
   "source": [
    "# 1.0. Data"
   ]
  },
  {
   "cell_type": "markdown",
   "metadata": {},
   "source": [
    "## 1.1. Load the Data"
   ]
  },
  {
   "cell_type": "code",
   "execution_count": null,
   "metadata": {},
   "outputs": [],
   "source": [
    "# loading main file\n",
    "df = pd.read_csv('dataset/owid-covid-data.csv')\n",
    "\n",
    "# load describe columns file\n",
    "cols_describe = pd.read_csv('dataset/describe.csv')"
   ]
  },
  {
   "cell_type": "code",
   "execution_count": null,
   "metadata": {},
   "outputs": [],
   "source": [
    "df.head()"
   ]
  },
  {
   "cell_type": "markdown",
   "metadata": {},
   "source": [
    "## 1.2. Knowing the Data"
   ]
  },
  {
   "cell_type": "markdown",
   "metadata": {},
   "source": [
    "### 1.2.1. Data shape"
   ]
  },
  {
   "cell_type": "code",
   "execution_count": null,
   "metadata": {},
   "outputs": [],
   "source": [
    "print(f'The dataset shape is: {df.shape}')"
   ]
  },
  {
   "cell_type": "markdown",
   "metadata": {},
   "source": [
    "### 1.2.2. Type and Structure"
   ]
  },
  {
   "cell_type": "code",
   "execution_count": null,
   "metadata": {},
   "outputs": [],
   "source": [
    "df.info(show_counts=True)"
   ]
  },
  {
   "cell_type": "markdown",
   "metadata": {},
   "source": [
    "* Some features has Null values;\n",
    "* dtypes: float64(54), object(5);\n",
    "* Total entries: 75558;\n",
    "* Total of 59 columns;"
   ]
  },
  {
   "cell_type": "markdown",
   "metadata": {},
   "source": [
    "### 1.2.3. Checking Missing Values"
   ]
  },
  {
   "cell_type": "code",
   "execution_count": null,
   "metadata": {},
   "outputs": [],
   "source": [
    "df.isnull().sum()"
   ]
  },
  {
   "cell_type": "markdown",
   "metadata": {},
   "source": [
    "Some features has many null values, these values will be dropped."
   ]
  },
  {
   "cell_type": "code",
   "execution_count": null,
   "metadata": {},
   "outputs": [],
   "source": [
    "# checking miss values rate\n",
    "columns_to_drop = []\n",
    "for col in df.columns:\n",
    "    total = len(df[col])\n",
    "    total_missing = df[col].isna().sum()\n",
    "    missing_rate = total_missing/total\n",
    "    # append to list\n",
    "    if missing_rate > 0.6:\n",
    "        columns_to_drop.append(col)\n",
    "\n",
    "columns_to_drop"
   ]
  },
  {
   "cell_type": "code",
   "execution_count": null,
   "metadata": {},
   "outputs": [],
   "source": [
    "# drop columns with too much missing values\n",
    "df2 = df.drop(columns = columns_to_drop, axis=1)"
   ]
  },
  {
   "cell_type": "markdown",
   "metadata": {},
   "source": [
    "## 1.6. Descriptive Statistics"
   ]
  },
  {
   "cell_type": "markdown",
   "metadata": {},
   "source": [
    "### 1.6.1. Numerical Attributes"
   ]
  },
  {
   "cell_type": "code",
   "execution_count": null,
   "metadata": {},
   "outputs": [],
   "source": [
    "# selecting numerical attributes\n",
    "num_df = df2.select_dtypes(exclude=['object'])\n",
    "\n",
    "# describe\n",
    "describe = num_df.describe().T\n",
    "\n",
    "# adding other metrics to knowing data\n",
    "describe['range'] = (num_df.max() - num_df.min()).tolist()\n",
    "describe['unique val.'] = num_df.nunique()\n",
    "describe['variation coefficient'] = np.round((num_df.std() / num_df.mean()), 4).tolist()\n",
    "describe['skew'] = np.round(num_df.skew(), 4).tolist()\n",
    "describe['kurtosis'] = np.round(num_df.kurtosis(), 4).tolist()\n",
    "\n",
    "describe"
   ]
  },
  {
   "cell_type": "code",
   "execution_count": null,
   "metadata": {},
   "outputs": [],
   "source": [
    "# about skewness\n",
    "high_skewness = []\n",
    "for feat in range(len(describe.index)):\n",
    "    if abs(describe['skew'].iloc[feat]) > 2:\n",
    "        high_skewness.append(describe.index[feat])\n",
    "print(f'There\\'s {len(high_skewness)} features with high skew:')\n",
    "print(high_skewness)"
   ]
  },
  {
   "cell_type": "code",
   "execution_count": null,
   "metadata": {},
   "outputs": [],
   "source": [
    "# about kurstosis\n",
    "high_kurstosis = []\n",
    "for feat in range(len(describe.index)):\n",
    "    if abs(describe['kurtosis'].iloc[feat]) > 3:\n",
    "        high_kurstosis.append(describe.index[feat])\n",
    "print(f'There\\'s {len(high_kurstosis)} features with high kurtosis:')\n",
    "print(high_kurstosis)"
   ]
  },
  {
   "cell_type": "code",
   "execution_count": null,
   "metadata": {},
   "outputs": [],
   "source": [
    "# negative values\n",
    "negative_values = []\n",
    "for feat in range(len(describe.index)):\n",
    "    if abs(describe['min'].iloc[feat] <= 0):\n",
    "        negative_values.append(describe.index[feat])\n",
    "print(f'There\\'s {len(negative_values)} features with negative values:')\n",
    "print(negative_values)"
   ]
  },
  {
   "cell_type": "markdown",
   "metadata": {},
   "source": [
    "Dealing with those features later."
   ]
  },
  {
   "cell_type": "markdown",
   "metadata": {},
   "source": [
    "### 1.6.2. Categorical Attributes"
   ]
  },
  {
   "cell_type": "code",
   "execution_count": null,
   "metadata": {},
   "outputs": [],
   "source": [
    "cat_df = df2.select_dtypes(exclude='float64')\n",
    "\n",
    "cat_df.describe().T"
   ]
  },
  {
   "cell_type": "markdown",
   "metadata": {},
   "source": [
    "* There is 215 countries in the present dataset;\n",
    "* 6 continents;"
   ]
  },
  {
   "cell_type": "markdown",
   "metadata": {},
   "source": [
    "# 2.0. Feature Engineering and Hypothesis Creation"
   ]
  },
  {
   "cell_type": "markdown",
   "metadata": {},
   "source": [
    "## 2.1. Feature Engineering"
   ]
  },
  {
   "cell_type": "code",
   "execution_count": null,
   "metadata": {},
   "outputs": [],
   "source": [
    "# transform object in datetime format\n",
    "df2['date'] = pd.to_datetime(df2.date)\n",
    "\n",
    "# creating year column\n",
    "df2['year'] = df2.date.dt.year"
   ]
  },
  {
   "cell_type": "markdown",
   "metadata": {},
   "source": [
    "## 2.3. Hypothesis"
   ]
  },
  {
   "cell_type": "markdown",
   "metadata": {},
   "source": [
    "0. Brazil more likely to Covid19 than USA.\n",
    "0. Continentes with high vaccination rate are more effective on Covid19 control.\n",
    "0. Countries with high populatation density are more likely to Covid19.\n",
    "0. Countries with a high elderly are more prone to Covid19.\n",
    "0. Countries with high Gross domestic product are less likely to covid19.\n",
    "0. USA has more Covid19 death.\n",
    "0. European continent did the most Covid19's test."
   ]
  },
  {
   "cell_type": "markdown",
   "metadata": {},
   "source": [
    "# 3.0. Exploratory Data Analysis"
   ]
  },
  {
   "cell_type": "markdown",
   "metadata": {},
   "source": [
    "## 3.1. Univariate Analysis"
   ]
  },
  {
   "cell_type": "markdown",
   "metadata": {},
   "source": [
    "### 3.1.1. Target Variable\n",
    "\n",
    "Our target variable is total_cases"
   ]
  },
  {
   "cell_type": "code",
   "execution_count": null,
   "metadata": {},
   "outputs": [],
   "source": [
    "show_density(np.log1p(df2.total_cases))"
   ]
  },
  {
   "cell_type": "markdown",
   "metadata": {},
   "source": [
    "### 3.1.2. Numerical variables"
   ]
  },
  {
   "cell_type": "code",
   "execution_count": null,
   "metadata": {},
   "outputs": [],
   "source": [
    "numerical = num_df.drop('total_cases', axis=1)\n",
    "\n",
    "numerical.hist(bins=25)\n",
    "plt.tight_layout()\n",
    "plt.show()"
   ]
  },
  {
   "cell_type": "code",
   "execution_count": null,
   "metadata": {},
   "outputs": [],
   "source": []
  },
  {
   "cell_type": "markdown",
   "metadata": {},
   "source": [
    "## 3.2 Bivariate Analysis"
   ]
  },
  {
   "cell_type": "markdown",
   "metadata": {},
   "source": [
    "### 3.2.1. Total Cases"
   ]
  },
  {
   "cell_type": "code",
   "execution_count": null,
   "metadata": {},
   "outputs": [],
   "source": [
    "sns.lineplot(data=df2, x='date', y='total_cases', hue='continent', style='continent', ci=None)\n",
    "plt.title('Covid19 situation update wordwide')\n",
    "plt.ylabel('Total Cases')\n",
    "plt.xlabel('Date')\n",
    "plt.show()"
   ]
  },
  {
   "cell_type": "code",
   "execution_count": null,
   "metadata": {},
   "outputs": [],
   "source": [
    "south_america = df2.query('continent == \"South America\"')\n",
    "\n",
    "sns.lineplot(data=south_america, x='date', y='total_cases', hue='iso_code', style='iso_code', ci=None)\n",
    "plt.ylabel('Total Cases')\n",
    "plt.xlabel('Date')\n",
    "plt.title('Covid19 pandemic in South America')\n",
    "plt.show()"
   ]
  },
  {
   "cell_type": "markdown",
   "metadata": {},
   "source": [
    "### 3.2.2. Total Deaths"
   ]
  },
  {
   "cell_type": "code",
   "execution_count": null,
   "metadata": {},
   "outputs": [],
   "source": [
    "sns.lineplot(data=df2, x='date', y='total_deaths', hue='continent', style='continent', ci=None)\n",
    "plt.title('Covid19 situation update wordwide - Total Deaths')\n",
    "plt.ylabel('Total Deaths')\n",
    "plt.xlabel('Date')\n",
    "plt.show()"
   ]
  },
  {
   "cell_type": "code",
   "execution_count": null,
   "metadata": {},
   "outputs": [],
   "source": [
    "sns.lineplot(data=south_america, x='date', y='total_deaths', hue='iso_code', style='iso_code', ci=None)\n",
    "plt.ylabel('Total Deaths')\n",
    "plt.xlabel('Date')\n",
    "plt.title('Covid19 pandemic in South America - Total Deaths')\n",
    "plt.show()"
   ]
  },
  {
   "cell_type": "code",
   "execution_count": null,
   "metadata": {},
   "outputs": [],
   "source": [
    "countries = df2[~df2.iso_code.str.contains('OWID')]\n",
    "\n",
    "countries.iso_code.unique()"
   ]
  },
  {
   "cell_type": "code",
   "execution_count": null,
   "metadata": {},
   "outputs": [],
   "source": [
    "countries_cases = countries[['iso_code', 'total_cases', 'total_deaths']].groupby('iso_code')[['total_cases', 'total_deaths']].sum().reset_index()"
   ]
  },
  {
   "cell_type": "code",
   "execution_count": null,
   "metadata": {},
   "outputs": [],
   "source": [
    "countries_cases.plot(x='iso_code', y=['total_cases', 'total_deaths'], kind='bar')"
   ]
  },
  {
   "cell_type": "code",
   "execution_count": null,
   "metadata": {},
   "outputs": [],
   "source": []
  }
 ],
 "metadata": {
  "kernelspec": {
   "display_name": "Python 3",
   "language": "python",
   "name": "python3"
  },
  "language_info": {
   "codemirror_mode": {
    "name": "ipython",
    "version": 3
   },
   "file_extension": ".py",
   "mimetype": "text/x-python",
   "name": "python",
   "nbconvert_exporter": "python",
   "pygments_lexer": "ipython3",
   "version": "3.8.5-final"
  }
 },
 "nbformat": 4,
 "nbformat_minor": 2
}